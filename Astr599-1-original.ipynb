{
 "cells": [
  {
   "cell_type": "markdown",
   "metadata": {},
   "source": [
    "                Advanced Data Structures:\n",
    "        "
   ]
  },
  {
   "cell_type": "code",
   "execution_count": 20,
   "metadata": {},
   "outputs": [],
   "source": [
    "%matplotlib inline\n",
    "import numpy as np\n",
    "import matplotlib.pyplot as plt"
   ]
  },
  {
   "cell_type": "markdown",
   "metadata": {},
   "source": [
    "In 2016 I began following a series of notebooks by Jake Vanderplas (JV) for the Astr599 course at the University of Washington originaly available at:\n",
    "\n",
    "    http://www.astro.washington.edu/users/vanderplas/Astr599/notebooks/02_advanced_data_structures\n",
    "\n",
    "In 2018 I returned to JVs notebooks and found that this website was no longer active. At that time JV was with the UW eScience Institute as Director of Open Software and the notebooks were available, and still are in 2024, on github:\n",
    "\n",
    "    https://github.com/jakevdp/2014_fall_ASTR599/tree/master/notebooks\n",
    "\n",
    "JV is now a software engineer with Google Research in Seattle and a developer of a number of open-source software projects.\n",
    "\n",
    "As part of learning a bit about Git I'm going to revise the three notebooks I created as a result of carrying out the exercises in this course."
   ]
  },
  {
   "cell_type": "markdown",
   "metadata": {},
   "source": [
    "Originally I used Spyder 2.2.5, Python 2.7.3, IPython 0.13.2.rc2, Ubuntu 12.04LTS as my work environment.\n",
    "\n",
    "The version info was originally produced, in a nicely formatted way, by an ipython extension. The current version was installed using 'conda install version_information' as part of my miniforge3 install."
   ]
  },
  {
   "cell_type": "code",
   "execution_count": 21,
   "metadata": {},
   "outputs": [
    {
     "name": "stdout",
     "output_type": "stream",
     "text": [
      "The version_information extension is already loaded. To reload it, use:\n",
      "  %reload_ext version_information\n"
     ]
    },
    {
     "data": {
      "application/json": {
       "Software versions": [
        {
         "module": "Python",
         "version": "3.12.3 64bit [GCC 12.3.0]"
        },
        {
         "module": "IPython",
         "version": "8.25.0"
        },
        {
         "module": "OS",
         "version": "Linux 5.15.0 119 generic x86_64 with glibc2.35"
        },
        {
         "module": "Matplotlibnumpy",
         "version": "The 'Matplotlibnumpy' distribution was not found and is required by the application"
        },
        {
         "module": "scipy",
         "version": "1.14.0"
        },
        {
         "module": "matplotlib",
         "version": "3.8.4"
        }
       ]
      },
      "text/html": [
       "<table><tr><th>Software</th><th>Version</th></tr><tr><td>Python</td><td>3.12.3 64bit [GCC 12.3.0]</td></tr><tr><td>IPython</td><td>8.25.0</td></tr><tr><td>OS</td><td>Linux 5.15.0 119 generic x86\\_64 with glibc2.35</td></tr><tr><td>Matplotlibnumpy</td><td>The 'Matplotlibnumpy' distribution was not found and is required by the application</td></tr><tr><td>scipy</td><td>1.14.0</td></tr><tr><td>matplotlib</td><td>3.8.4</td></tr><tr><td colspan='2'>Sun Sep 08 14:30:15 2024 EDT</td></tr></table>"
      ],
      "text/latex": [
       "\\begin{tabular}{|l|l|}\\hline\n",
       "{\\bf Software} & {\\bf Version} \\\\ \\hline\\hline\n",
       "Python & 3.12.3 64bit [GCC 12.3.0] \\\\ \\hline\n",
       "IPython & 8.25.0 \\\\ \\hline\n",
       "OS & Linux 5.15.0 119 generic x86\\_64 with glibc2.35 \\\\ \\hline\n",
       "Matplotlibnumpy & The 'Matplotlibnumpy' distribution was not found and is required by the application \\\\ \\hline\n",
       "scipy & 1.14.0 \\\\ \\hline\n",
       "matplotlib & 3.8.4 \\\\ \\hline\n",
       "\\hline \\multicolumn{2}{|l|}{Sun Sep 08 14:30:15 2024 EDT} \\\\ \\hline\n",
       "\\end{tabular}\n"
      ],
      "text/plain": [
       "Software versions\n",
       "Python 3.12.3 64bit [GCC 12.3.0]\n",
       "IPython 8.25.0\n",
       "OS Linux 5.15.0 119 generic x86_64 with glibc2.35\n",
       "Matplotlibnumpy The 'Matplotlibnumpy' distribution was not found and is required by the application\n",
       "scipy 1.14.0\n",
       "matplotlib 3.8.4\n",
       "Sun Sep 08 14:30:15 2024 EDT"
      ]
     },
     "execution_count": 21,
     "metadata": {},
     "output_type": "execute_result"
    }
   ],
   "source": [
    "%load_ext version_information\n",
    "%version_information Matplotlib numpy, scipy, matplotlib"
   ]
  },
  {
   "cell_type": "markdown",
   "metadata": {},
   "source": [
    "## Astr599:"
   ]
  },
  {
   "cell_type": "markdown",
   "metadata": {},
   "source": [
    "The exercises in this section of the course allowed me to play around with lists and dictionaries. First I created a file Asteroids.py to store the given data and loaded it:"
   ]
  },
  {
   "cell_type": "code",
   "execution_count": 22,
   "metadata": {},
   "outputs": [],
   "source": [
    "run 'Asteroids.py'"
   ]
  },
  {
   "cell_type": "markdown",
   "metadata": {},
   "source": [
    "This file contains:\n",
    "\n",
    "    1. A list, 'Asteroids' with info for 50 asteroids.\n",
    "       Each tuple in the list consists of: \n",
    "       (asteroid name, semi-major axis(AU), eccentricity, orbit class).\n",
    "\n",
    "    2. A dictionary, 'orbit_class'.    \n",
    "    \n",
    "    The data originally came from http://ssd.jpl.nasa.gov/sbdb_query.cgi which doesn't seem to be             available any longer. JV includes the data as part of     \n",
    "\n",
    "        2014_fall_ASTR599/notebooks/02_advanced_data_structures.ipynb\n",
    "\n",
    "    around line 71.\n",
    "\n",
    "For example:"
   ]
  },
  {
   "cell_type": "code",
   "execution_count": 23,
   "metadata": {},
   "outputs": [
    {
     "data": {
      "text/plain": [
       "('Eros', 1.457916888347732, 0.2226769029627053, 'AMO')"
      ]
     },
     "execution_count": 23,
     "metadata": {},
     "output_type": "execute_result"
    }
   ],
   "source": [
    "# Individual tuples can be accessed:\n",
    "Asteroids[0]"
   ]
  },
  {
   "cell_type": "code",
   "execution_count": 24,
   "metadata": {},
   "outputs": [
    {
     "data": {
      "text/plain": [
       "1.457916888347732"
      ]
     },
     "execution_count": 24,
     "metadata": {},
     "output_type": "execute_result"
    }
   ],
   "source": [
    "# Each item in the tuple can be accessed in a similar fashion:\n",
    "Asteroids[0][1]"
   ]
  },
  {
   "cell_type": "code",
   "execution_count": 25,
   "metadata": {},
   "outputs": [
    {
     "data": {
      "text/plain": [
       "{'AMO': 'Amor', 'APO': 'Apollo', 'ATE': 'Aten'}"
      ]
     },
     "execution_count": 25,
     "metadata": {},
     "output_type": "execute_result"
    }
   ],
   "source": [
    "orbit_class"
   ]
  },
  {
   "cell_type": "code",
   "execution_count": 26,
   "metadata": {},
   "outputs": [
    {
     "data": {
      "text/plain": [
       "'Aten'"
      ]
     },
     "execution_count": 26,
     "metadata": {},
     "output_type": "execute_result"
    }
   ],
   "source": [
    "orbit_class['ATE']"
   ]
  },
  {
   "cell_type": "markdown",
   "metadata": {},
   "source": [
    "The first exercise asked to select the asteroids within 0.2au of earth with an eccentricity < 0.5. After some trial and error I came up with the following list comprehension:"
   ]
  },
  {
   "cell_type": "code",
   "execution_count": 27,
   "metadata": {},
   "outputs": [],
   "source": [
    "L = [(n,a,e,t) for (n,a,e,t) in Asteroids if (abs(a - 1.0) < .2) and (e < 0.5)]"
   ]
  },
  {
   "cell_type": "code",
   "execution_count": 28,
   "metadata": {},
   "outputs": [
    {
     "data": {
      "text/plain": [
       "[('Cerberus', 1.079965807367047, 0.4668134997419173, 'APO'),\n",
       " ('Aten', 0.9668828078092987, 0.1827831025175614, 'ATE'),\n",
       " ('Bacchus', 1.078135348117527, 0.3495569270441645, 'APO'),\n",
       " ('Ra-Shalom', 0.8320425524852308, 0.4364726062545577, 'ATE'),\n",
       " ('Hathor', 0.8442121506103012, 0.4498204013480316, 'ATE'),\n",
       " ('Khufu', 0.989473784873371, 0.468479627898914, 'ATE')]"
      ]
     },
     "execution_count": 28,
     "metadata": {},
     "output_type": "execute_result"
    }
   ],
   "source": [
    "L"
   ]
  },
  {
   "cell_type": "markdown",
   "metadata": {},
   "source": [
    "Next I tried to sort the results using the list.sort() method which is extremely badly documented as far as I can tell."
   ]
  },
  {
   "cell_type": "code",
   "execution_count": 29,
   "metadata": {},
   "outputs": [
    {
     "data": {
      "text/plain": [
       "[('Aten', 0.9668828078092987, 0.1827831025175614, 'ATE'),\n",
       " ('Bacchus', 1.078135348117527, 0.3495569270441645, 'APO'),\n",
       " ('Cerberus', 1.079965807367047, 0.4668134997419173, 'APO'),\n",
       " ('Hathor', 0.8442121506103012, 0.4498204013480316, 'ATE'),\n",
       " ('Khufu', 0.989473784873371, 0.468479627898914, 'ATE'),\n",
       " ('Ra-Shalom', 0.8320425524852308, 0.4364726062545577, 'ATE')]"
      ]
     },
     "execution_count": 29,
     "metadata": {},
     "output_type": "execute_result"
    }
   ],
   "source": [
    "L.sort()\n",
    "L"
   ]
  },
  {
   "cell_type": "markdown",
   "metadata": {},
   "source": [
    "This sorts on the first field which makes sense. To sort on another field is another thing altogether! The help info is confusing as there is no explanation or link to the idea of a 'key function':\n",
    "\n",
    "    Definition : sort(...)\n",
    "    \n",
    "    Type : Function of None module\n",
    "    \n",
    "    Sort the list in ascending order and return None.\n",
    "    \n",
    "    The sort is in-place (i.e. the list itself is modified) and stable (i.e. the order of two equal           elements is maintained).\n",
    "    \n",
    "    If a key function is given, apply it once to each list item and sort them, ascending or                   descending, according to their function values.\n",
    "    \n",
    "    The reverse flag can be set to sort in descending order.\n",
    "    \n",
    "Searching the ipython docs was unhelpful but I did find a description of the 'key function' approach at:\n",
    "\n",
    "    https://scipython.com/book/chapter-4-the-core-python-language-ii/examples/sorting-methods/\n",
    "    \n",
    "The following is a sort on the semi-major axis. The second element in each tuple in L is chosen by the lambda function and passed to the sort function:"
   ]
  },
  {
   "cell_type": "code",
   "execution_count": 30,
   "metadata": {},
   "outputs": [
    {
     "data": {
      "text/plain": [
       "[('Ra-Shalom', 0.8320425524852308, 0.4364726062545577, 'ATE'),\n",
       " ('Hathor', 0.8442121506103012, 0.4498204013480316, 'ATE'),\n",
       " ('Aten', 0.9668828078092987, 0.1827831025175614, 'ATE'),\n",
       " ('Khufu', 0.989473784873371, 0.468479627898914, 'ATE'),\n",
       " ('Bacchus', 1.078135348117527, 0.3495569270441645, 'APO'),\n",
       " ('Cerberus', 1.079965807367047, 0.4668134997419173, 'APO')]"
      ]
     },
     "execution_count": 30,
     "metadata": {},
     "output_type": "execute_result"
    }
   ],
   "source": [
    "L.sort(key=lambda a: a[1])\n",
    "L"
   ]
  },
  {
   "cell_type": "markdown",
   "metadata": {},
   "source": [
    "I then created a dictionary from the list results above:"
   ]
  },
  {
   "cell_type": "code",
   "execution_count": 31,
   "metadata": {},
   "outputs": [
    {
     "data": {
      "text/plain": [
       "{'Ra-Shalom': (0.8320425524852308, 0.4364726062545577, 'ATE'),\n",
       " 'Hathor': (0.8442121506103012, 0.4498204013480316, 'ATE'),\n",
       " 'Aten': (0.9668828078092987, 0.1827831025175614, 'ATE'),\n",
       " 'Khufu': (0.989473784873371, 0.468479627898914, 'ATE'),\n",
       " 'Bacchus': (1.078135348117527, 0.3495569270441645, 'APO'),\n",
       " 'Cerberus': (1.079965807367047, 0.4668134997419173, 'APO')}"
      ]
     },
     "execution_count": 31,
     "metadata": {},
     "output_type": "execute_result"
    }
   ],
   "source": [
    "D = dict([(name, (a, e, t)) for (name, a, e, t) in L])\n",
    "D"
   ]
  },
  {
   "cell_type": "markdown",
   "metadata": {},
   "source": [
    "You can remove keys from the dictionary with:"
   ]
  },
  {
   "cell_type": "code",
   "execution_count": 32,
   "metadata": {},
   "outputs": [
    {
     "data": {
      "text/plain": [
       "{'Ra-Shalom': (0.8320425524852308, 0.4364726062545577, 'ATE'),\n",
       " 'Hathor': (0.8442121506103012, 0.4498204013480316, 'ATE'),\n",
       " 'Aten': (0.9668828078092987, 0.1827831025175614, 'ATE'),\n",
       " 'Khufu': (0.989473784873371, 0.468479627898914, 'ATE'),\n",
       " 'Cerberus': (1.079965807367047, 0.4668134997419173, 'APO')}"
      ]
     },
     "execution_count": 32,
     "metadata": {},
     "output_type": "execute_result"
    }
   ],
   "source": [
    "D.pop('Bacchus')\n",
    "D"
   ]
  },
  {
   "cell_type": "markdown",
   "metadata": {},
   "source": [
    "and add keys with:"
   ]
  },
  {
   "cell_type": "code",
   "execution_count": 33,
   "metadata": {},
   "outputs": [
    {
     "data": {
      "text/plain": [
       "{'Ra-Shalom': (0.8320425524852308, 0.4364726062545577, 'ATE'),\n",
       " 'Hathor': (0.8442121506103012, 0.4498204013480316, 'ATE'),\n",
       " 'Aten': (0.9668828078092987, 0.1827831025175614, 'ATE'),\n",
       " 'Khufu': (0.989473784873371, 0.468479627898914, 'ATE'),\n",
       " 'Cerberus': (1.079965807367047, 0.4668134997419173, 'APO'),\n",
       " 'Bacchus': (1.078135348117527, 0.3495569270441645, 'APO')}"
      ]
     },
     "execution_count": 33,
     "metadata": {},
     "output_type": "execute_result"
    }
   ],
   "source": [
    "D['Bacchus'] = (1.078135348117527, 0.3495569270441645, 'APO')\n",
    "D"
   ]
  },
  {
   "cell_type": "markdown",
   "metadata": {},
   "source": [
    "The last step was to replace the orbital class designation using the info from the orbit_class dictionary above:"
   ]
  },
  {
   "cell_type": "code",
   "execution_count": 34,
   "metadata": {},
   "outputs": [
    {
     "name": "stdout",
     "output_type": "stream",
     "text": [
      "L2 =  \n",
      "\n",
      "Asteroid \t a (AU) \t e \t \t Class\n",
      "-------------------------------------------------------\n",
      "Ra-Shalom    \t 0.8320 \t 0.4365 \t Aten\n",
      "Hathor       \t 0.8442 \t 0.4498 \t Aten\n",
      "Aten         \t 0.9669 \t 0.1828 \t Aten\n",
      "Khufu        \t 0.9895 \t 0.4685 \t Aten\n",
      "Bacchus      \t 1.0781 \t 0.3496 \t Apollo\n",
      "Cerberus     \t 1.0800 \t 0.4668 \t Apollo\n"
     ]
    }
   ],
   "source": [
    "L2 = []\n",
    "print ('L2 = ', \"\\n\")\n",
    "print ('Asteroid', \"\\t\", 'a (AU)', \"\\t\", 'e', \"\\t\", \"\\t\",'Class')\n",
    "print ('-------------------------------------------------------')\n",
    "for n,a,e,t in L:\n",
    "    if t == 'APO': \n",
    "        nn = n,a,e,orbit_class['APO']\n",
    "        L2.append(nn)\n",
    "    elif t == 'AMO':\n",
    "        nn = n,a,e,orbit_class['AMO']\n",
    "        L2.append(nn)\n",
    "    elif t == 'ATE':\n",
    "        nn = n,a,e,orbit_class['ATE']\n",
    "        L2.append(nn)\n",
    "    else:\n",
    "        pass\n",
    "for n,a,e,t in L2:\n",
    "    print ('{0:12s} \\t {1:1.4f} \\t {2:1.4f} \\t {3}'.format(n,a,e,t))"
   ]
  },
  {
   "cell_type": "markdown",
   "metadata": {},
   "source": [
    "### Ipython Intro:"
   ]
  },
  {
   "cell_type": "markdown",
   "metadata": {},
   "source": [
    "The next notebook (03_IPython_intro.ipynb) deals largely with some basic ipython operations. \n",
    "\n",
    "I was mostly interested in how to acquire existing notebooks and play with them which was left to the user as an exercise:\n",
    "\n",
    ">    1. Using notebooks made available by others on the Internet\n",
    "\n",
    ">       Find a Notebook shared from the ***IPython Notebook Gallery(https://github.com/ipython/ipython/wiki/\n",
    ">       A-gallery-of-interesting-IPython-Notebooks)*** and Download it via http://nbviewer.ipython.org. \n",
    ">       Then import it into your running Notebook server using the Dashboard.\n",
    "\n",
    "The link provided for the gallery has been redirected a couple of times, ultimately to,\n",
    "\n",
    "    https://github.com/jupyter/jupyter/wiki#a-gallery-of-interesting-jupyter-notebooks\n",
    "\n",
    "as of 2023, from which you can choose a notebook to view and download. \n",
    "\n",
    "Clicking a notebook opens it in \n",
    "\n",
    "    https://nbviewer.org/github/...\n",
    "\n",
    "as a webpage in your browser. You'll see a download icon at the top right of the notebook page.\n",
    "\n",
    "Clicking on the download icon produces a webpage \n",
    "\n",
    "    https://raw.githubusercontent.com/...\n",
    "\n",
    "of what appears to be a JSON representation but definitely not a nice notebook! \n",
    "\n",
    "Right-clicking on the page allows you to '*save as*' this file as a .ipynb file where convenient. \n",
    "\n",
    "The new notebook can be accessed from Jupyter and played with as if I had written it :-)\n",
    "\n",
    "At this point I downloaded a few notebooks to look at and get ideas from, in particular I was interested in how to do simple Markdown and how some of the nicer formatting had been accomplished.\n"
   ]
  },
  {
   "cell_type": "markdown",
   "metadata": {},
   "source": [
    "OK now continuing with Astr599 part 4:"
   ]
  },
  {
   "cell_type": "markdown",
   "metadata": {},
   "source": [
    "## Functions and Modules"
   ]
  },
  {
   "cell_type": "markdown",
   "metadata": {},
   "source": [
    "First of all JV clarifies some things about functions such as args(required) and Kwargs(optional).\n",
    "\n",
    "First a reminder of a couple of lists from the original asteroids list:"
   ]
  },
  {
   "cell_type": "code",
   "execution_count": 50,
   "metadata": {},
   "outputs": [
    {
     "data": {
      "text/plain": [
       "[('Ra-Shalom', 0.8320425524852308, 0.4364726062545577, 'ATE'),\n",
       " ('Hathor', 0.8442121506103012, 0.4498204013480316, 'ATE'),\n",
       " ('Aten', 0.9668828078092987, 0.1827831025175614, 'ATE'),\n",
       " ('Khufu', 0.989473784873371, 0.468479627898914, 'ATE'),\n",
       " ('Bacchus', 1.078135348117527, 0.3495569270441645, 'APO'),\n",
       " ('Cerberus', 1.079965807367047, 0.4668134997419173, 'APO')]"
      ]
     },
     "execution_count": 50,
     "metadata": {},
     "output_type": "execute_result"
    }
   ],
   "source": [
    "L"
   ]
  },
  {
   "cell_type": "code",
   "execution_count": 51,
   "metadata": {},
   "outputs": [
    {
     "data": {
      "text/plain": [
       "[('Ra-Shalom', 0.8320425524852308, 0.4364726062545577, 'Aten'),\n",
       " ('Hathor', 0.8442121506103012, 0.4498204013480316, 'Aten'),\n",
       " ('Aten', 0.9668828078092987, 0.1827831025175614, 'Aten'),\n",
       " ('Khufu', 0.989473784873371, 0.468479627898914, 'Aten'),\n",
       " ('Bacchus', 1.078135348117527, 0.3495569270441645, 'Apollo'),\n",
       " ('Cerberus', 1.079965807367047, 0.4668134997419173, 'Apollo')]"
      ]
     },
     "execution_count": 51,
     "metadata": {},
     "output_type": "execute_result"
    }
   ],
   "source": [
    "L2"
   ]
  },
  {
   "cell_type": "markdown",
   "metadata": {},
   "source": [
    "Now a simple function to illustrate the args (L) and kwargs (f=):"
   ]
  },
  {
   "cell_type": "code",
   "execution_count": null,
   "metadata": {},
   "outputs": [],
   "source": [
    "def Sumf(L, f=1):\n",
    "    \"\"\" summation of a field in the asteroid data \n",
    "    \n",
    "    parameters\n",
    "    ---------\n",
    "    L : list of tuples\n",
    "        the list of asteroids and their sma, ecc and orbital class\n",
    "    f : integer\n",
    "        the field to be summed (in this case the semi-major axes)\n",
    "        \n",
    "    returns\n",
    "    ------\n",
    "    s : float\n",
    "        the sum of the values in the field = f\n",
    "    \"\"\"\n",
    "    s = 0.0\n",
    "    for k in L:\n",
    "        s += k[f]\n",
    "    return s"
   ]
  },
  {
   "cell_type": "code",
   "execution_count": 52,
   "metadata": {},
   "outputs": [
    {
     "name": "stdout",
     "output_type": "stream",
     "text": [
      "The sum of the semi-major axes =  5.790712451262776\n",
      "The sum of the eccentricities =  2.353926164805147\n"
     ]
    }
   ],
   "source": [
    "Sum = Sumf(L2)   ### uses the default Kw, i.e semi-major axis ###\n",
    "print ('The sum of the semi-major axes = ', Sum)\n",
    "\n",
    "Sum = Sumf(L2, f=2)   ### uses the optional Kw to choose the eccentricity ###\n",
    "print ('The sum of the eccentricities = ', Sum)"
   ]
  },
  {
   "cell_type": "markdown",
   "metadata": {},
   "source": [
    "### Next some interesting stuff wrt to documentation and html. \n",
    "\n",
    "First a reminder re the ipython help command. Typing\n",
    "\n",
    "Sumf?\n",
    "\n",
    "returns:"
   ]
  },
  {
   "cell_type": "raw",
   "metadata": {},
   "source": [
    "Signature: Sumf(L, f=1)\n",
    "Docstring:\n",
    "summation of a field in the asteroid data \n",
    "\n",
    "parameters\n",
    "---------\n",
    "L : list of tuples\n",
    "    the list of asteroids and their sma, ecc and orbital class\n",
    "f : integer\n",
    "    the field to be summed (in this case the semi-major axes)\n",
    "    \n",
    "returns\n",
    "------\n",
    "s : float\n",
    "    the sum of the values in the field = f\n",
    "File:      /tmp/ipykernel_6518/676867571.py\n",
    "Type:      function\n"
   ]
  },
  {
   "cell_type": "markdown",
   "metadata": {},
   "source": [
    "Next he shows how to create HTML documentation from a file automatically using pydoc(a command-line program bundled with Python).\n",
    "\n",
    "First, write the Sumf function to a file:"
   ]
  },
  {
   "cell_type": "code",
   "execution_count": 53,
   "metadata": {},
   "outputs": [
    {
     "name": "stdout",
     "output_type": "stream",
     "text": [
      "Overwriting fieldsum.py\n"
     ]
    }
   ],
   "source": [
    "%%file fieldsum.py\n",
    "\n",
    "def Sumf(L, f=1):\n",
    "    \"\"\" summation of a field in the asteroid data \n",
    "    \n",
    "    parameters\n",
    "    ---------\n",
    "    L : list of tuples\n",
    "        the list of asteroids and their sma, ecc and orbital class\n",
    "    f : integer\n",
    "        the field to be summed (in this case the semi-major axes)\n",
    "        \n",
    "    returns\n",
    "    ------\n",
    "    s : float\n",
    "        the sum of the values in the field = f\n",
    "    \"\"\"\n",
    "    s = 0.0\n",
    "    for k in L:\n",
    "        s += k[f]\n",
    "    return s"
   ]
  },
  {
   "cell_type": "code",
   "execution_count": 54,
   "metadata": {
    "scrolled": true
   },
   "outputs": [
    {
     "name": "stdout",
     "output_type": "stream",
     "text": [
      "\n",
      "def Sumf(L, f=1):\n",
      "    \"\"\" summation of a field in the asteroid data \n",
      "    \n",
      "    parameters\n",
      "    ---------\n",
      "    L : list of tuples\n",
      "        the list of asteroids and their sma, ecc and orbital class\n",
      "    f : integer\n",
      "        the field to be summed (in this case the semi-major axes)\n",
      "        \n",
      "    returns\n",
      "    ------\n",
      "    s : float\n",
      "        the sum of the values in the field = f\n",
      "    \"\"\"\n",
      "    s = 0.0\n",
      "    for k in L:\n",
      "        s += k[f]\n",
      "    return s\n"
     ]
    }
   ],
   "source": [
    "cat fieldsum.py"
   ]
  },
  {
   "cell_type": "code",
   "execution_count": 55,
   "metadata": {},
   "outputs": [
    {
     "name": "stdout",
     "output_type": "stream",
     "text": [
      "wrote fieldsum.html\n"
     ]
    }
   ],
   "source": [
    "!pydoc -w fieldsum"
   ]
  },
  {
   "cell_type": "code",
   "execution_count": 56,
   "metadata": {},
   "outputs": [
    {
     "data": {
      "text/html": [
       "<!DOCTYPE html>\n",
       "<html lang=\"en\">\n",
       "<head>\n",
       "<meta charset=\"utf-8\">\n",
       "<title>Python: module fieldsum</title>\n",
       "</head><body>\n",
       "\n",
       "<table class=\"heading\">\n",
       "<tr class=\"heading-text decor\">\n",
       "<td class=\"title\">&nbsp;<br><strong class=\"title\">fieldsum</strong></td>\n",
       "<td class=\"extra\"><a href=\".\">index</a><br><a href=\"file:/home/rj/Projects/Astr599/fieldsum.py\">/home/rj/Projects/Astr599/fieldsum.py</a></td></tr></table>\n",
       "    <p></p>\n",
       "<p>\n",
       "<table class=\"section\">\n",
       "<tr class=\"decor functions-decor heading-text\">\n",
       "<td class=\"section-title\" colspan=3>&nbsp;<br><strong class=\"bigsection\">Functions</strong></td></tr>\n",
       "    \n",
       "<tr><td class=\"decor functions-decor\"><span class=\"code\">&nbsp;&nbsp;&nbsp;&nbsp;&nbsp;&nbsp;</span></td><td>&nbsp;</td>\n",
       "<td class=\"singlecolumn\"><dl><dt><a name=\"-Sumf\"><strong>Sumf</strong></a>(L, f=1)</dt><dd><span class=\"code\">summation&nbsp;of&nbsp;a&nbsp;field&nbsp;in&nbsp;the&nbsp;asteroid&nbsp;data&nbsp;<br>\n",
       "&nbsp;<br>\n",
       "parameters<br>\n",
       "---------<br>\n",
       "L&nbsp;:&nbsp;list&nbsp;of&nbsp;tuples<br>\n",
       "&nbsp;&nbsp;&nbsp;&nbsp;the&nbsp;list&nbsp;of&nbsp;asteroids&nbsp;and&nbsp;their&nbsp;sma,&nbsp;ecc&nbsp;and&nbsp;orbital&nbsp;class<br>\n",
       "f&nbsp;:&nbsp;integer<br>\n",
       "&nbsp;&nbsp;&nbsp;&nbsp;the&nbsp;field&nbsp;to&nbsp;be&nbsp;summed&nbsp;(in&nbsp;this&nbsp;case&nbsp;the&nbsp;semi-major&nbsp;axes)<br>\n",
       "&nbsp;&nbsp;&nbsp;&nbsp;<br>\n",
       "returns<br>\n",
       "------<br>\n",
       "s&nbsp;:&nbsp;float<br>\n",
       "&nbsp;&nbsp;&nbsp;&nbsp;the&nbsp;sum&nbsp;of&nbsp;the&nbsp;values&nbsp;in&nbsp;the&nbsp;field&nbsp;=&nbsp;f</span></dd></dl>\n",
       "</td></tr></table>\n",
       "</body></html>"
      ],
      "text/plain": [
       "<IPython.core.display.HTML object>"
      ]
     },
     "execution_count": 56,
     "metadata": {},
     "output_type": "execute_result"
    }
   ],
   "source": [
    "from IPython.display import HTML\n",
    "HTML(open('fieldsum.html').read())"
   ]
  },
  {
   "cell_type": "markdown",
   "metadata": {},
   "source": [
    "When opened directly in a browser (firefox) the display is better:"
   ]
  },
  {
   "cell_type": "markdown",
   "metadata": {},
   "source": [
    " \n",
    "fieldsum \tindex\n",
    "/home/rj/Projects/Astr599/fieldsum.py\n",
    "\n",
    " \n",
    "Functions\n",
    "      \t  \t\n",
    "\n",
    "Sumf(L, f=1)\n",
    "    summation of a field in the asteroid data \n",
    "     \n",
    "    parameters\n",
    "    ---------\n",
    "    L : list of tuples\n",
    "        the list of asteroids and their sma, ecc and orbital class\n",
    "    f : integer\n",
    "        the field to be summed (in this case the semi-major axes)\n",
    "        \n",
    "    returns\n",
    "    ------\n",
    "    s : float\n",
    "        the sum of the values in the field = f"
   ]
  },
  {
   "cell_type": "code",
   "execution_count": 59,
   "metadata": {},
   "outputs": [
    {
     "name": "stdout",
     "output_type": "stream",
     "text": [
      "Help on module fieldsum:\n",
      "\n",
      "NAME\n",
      "    fieldsum\n",
      "\n",
      "FUNCTIONS\n",
      "    Sumf(L, f=1)\n",
      "        summation of a field in the asteroid data\n",
      "\n",
      "        parameters\n",
      "        ---------\n",
      "        L : list of tuples\n",
      "            the list of asteroids and their sma, ecc and orbital class\n",
      "        f : integer\n",
      "            the field to be summed (in this case the semi-major axes)\n",
      "\n",
      "        returns\n",
      "        ------\n",
      "        s : float\n",
      "            the sum of the values in the field = f\n",
      "\n",
      "FILE\n",
      "    /home/rj/Projects/Astr599/fieldsum.py\n",
      "\n",
      "\n"
     ]
    }
   ],
   "source": [
    "# Pydoc can be used to display this info as well:\n",
    "!pydoc fieldsum"
   ]
  },
  {
   "cell_type": "markdown",
   "metadata": {},
   "source": [
    "Once a python file has been created it can be treated as a Module and imported:"
   ]
  },
  {
   "cell_type": "code",
   "execution_count": 60,
   "metadata": {},
   "outputs": [
    {
     "data": {
      "text/plain": [
       "5.790712451262776"
      ]
     },
     "execution_count": 60,
     "metadata": {},
     "output_type": "execute_result"
    }
   ],
   "source": [
    "import fieldsum\n",
    "\n",
    "fieldsum.Sumf(L2)"
   ]
  },
  {
   "cell_type": "code",
   "execution_count": 61,
   "metadata": {},
   "outputs": [
    {
     "data": {
      "text/plain": [
       "2.353926164805147"
      ]
     },
     "execution_count": 61,
     "metadata": {},
     "output_type": "execute_result"
    }
   ],
   "source": [
    "from fieldsum import Sumf as sf\n",
    "sf(L2, f = 2)"
   ]
  },
  {
   "cell_type": "code",
   "execution_count": 62,
   "metadata": {},
   "outputs": [
    {
     "data": {
      "text/plain": [
       "\u001b[0;31mType:\u001b[0m        module\n",
       "\u001b[0;31mString form:\u001b[0m <module 'fieldsum' from '/home/rj/Projects/Astr599/fieldsum.py'>\n",
       "\u001b[0;31mFile:\u001b[0m        ~/Projects/Astr599/fieldsum.py\n",
       "\u001b[0;31mDocstring:\u001b[0m   <no docstring>"
      ]
     },
     "metadata": {},
     "output_type": "display_data"
    }
   ],
   "source": [
    "# Is the info about the module fieldsum the same as pydoc?\n",
    "fieldsum?"
   ]
  },
  {
   "cell_type": "code",
   "execution_count": 63,
   "metadata": {},
   "outputs": [
    {
     "name": "stdout",
     "output_type": "stream",
     "text": [
      "None\n"
     ]
    }
   ],
   "source": [
    "# fieldsum has no docstring:\n",
    "print (fieldsum.__doc__)"
   ]
  },
  {
   "cell_type": "markdown",
   "metadata": {},
   "source": [
    "### Next he mentions a few built-in modules:\n",
    "\n",
    "*   sys: exposes interactions with the system(environment, File I/O, etc.)\n",
    "*   os: exposes platform-specific operations(file stats, directories, paths, etc.)\n",
    "*   math: exposes basic mathematical fuctions and constants\n"
   ]
  },
  {
   "cell_type": "code",
   "execution_count": 65,
   "metadata": {},
   "outputs": [],
   "source": [
    "# e.g.\n",
    "import math"
   ]
  },
  {
   "cell_type": "code",
   "execution_count": 70,
   "metadata": {},
   "outputs": [
    {
     "data": {
      "text/plain": [
       "12"
      ]
     },
     "execution_count": 70,
     "metadata": {},
     "output_type": "execute_result"
    }
   ],
   "source": [
    "\"\"\"\n",
    "A reminder that typing 'math.' and pressing tab\n",
    "gives a list of all the functions in the math module.\n",
    "For examaple, the perm function which calculates the \n",
    "permutations of n objects taken k at a time, with order: \n",
    "\"\"\"\n",
    "\n",
    "math.perm(4,2)  # 4 choose 2"
   ]
  },
  {
   "cell_type": "code",
   "execution_count": 71,
   "metadata": {},
   "outputs": [
    {
     "data": {
      "text/plain": [
       "120"
      ]
     },
     "execution_count": 71,
     "metadata": {},
     "output_type": "execute_result"
    }
   ],
   "source": [
    "math.perm(5)  # defaults to 5!"
   ]
  },
  {
   "cell_type": "markdown",
   "metadata": {},
   "source": [
    "# **"
   ]
  },
  {
   "cell_type": "markdown",
   "metadata": {},
   "source": [
    "## Introduction to Numerical Computing With Python:"
   ]
  },
  {
   "cell_type": "markdown",
   "metadata": {},
   "source": [
    "I'll only note here some things which I hadn't used or wasn't that familar with:"
   ]
  },
  {
   "cell_type": "code",
   "execution_count": 118,
   "metadata": {},
   "outputs": [
    {
     "name": "stdout",
     "output_type": "stream",
     "text": [
      "lst =  [1, 2, 3, 4, 5, 6]\n",
      "a =  [ 3.14159265  3.14159265  3.14159265  3.14159265  3.14159265]\n",
      "a filled with pi =  [ 3.14159265  3.14159265  3.14159265  3.14159265  3.14159265]\n"
     ]
    }
   ],
   "source": [
    "lst = [1,2,3,4,5,6]\n",
    "print (\"lst = \", lst)\n",
    "a = np.empty(5)\n",
    "print ( \"a = \", a)\n",
    "a.fill(np.pi)\n",
    "print (\"a filled with pi = \", a)"
   ]
  },
  {
   "cell_type": "markdown",
   "metadata": {},
   "source": [
    "range vs arange:"
   ]
  },
  {
   "cell_type": "code",
   "execution_count": 119,
   "metadata": {},
   "outputs": [
    {
     "name": "stdout",
     "output_type": "stream",
     "text": [
      "r =  range(0, 5)\n",
      "r is of:  <class 'range'>\n",
      "ra =  [0 1 2 3 4]\n",
      "ra is of: <class 'numpy.ndarray'>\n"
     ]
    }
   ],
   "source": [
    "r = range(5)\n",
    "print (\"r = \", r)\n",
    "print (\"r is of: \", type(r) )\n",
    "ra = np.arange(5)\n",
    "print ( \"ra = \", ra )\n",
    "print ( \"ra is of:\", type(ra) )"
   ]
  },
  {
   "cell_type": "markdown",
   "metadata": {},
   "source": [
    "Random numbers from a standard normal distribution(0 mean, variance = 1) vs random.normal with control over mean and variance:"
   ]
  },
  {
   "cell_type": "code",
   "execution_count": 120,
   "metadata": {},
   "outputs": [
    {
     "name": "stdout",
     "output_type": "stream",
     "text": [
      "[ 0.37389841  0.76836734  1.39497872 -2.00557449 -0.09887179]\n",
      "[  6.66851205  11.30968925  11.03023414  10.88026876   6.3723413 ]\n"
     ]
    }
   ],
   "source": [
    "rr = np.random.randn(5)\n",
    "print ( rr )\n",
    "rn = np.random.normal(10,3,5)\n",
    "print ( rn )"
   ]
  },
  {
   "cell_type": "markdown",
   "metadata": {},
   "source": [
    "Using masks:"
   ]
  },
  {
   "cell_type": "code",
   "execution_count": 121,
   "metadata": {},
   "outputs": [
    {
     "data": {
      "text/plain": [
       "array([ True, False, False, False,  True], dtype=bool)"
      ]
     },
     "execution_count": 121,
     "metadata": {},
     "output_type": "execute_result"
    }
   ],
   "source": [
    "mask = rn <= 10\n",
    "mask"
   ]
  },
  {
   "cell_type": "code",
   "execution_count": 122,
   "metadata": {},
   "outputs": [
    {
     "name": "stdout",
     "output_type": "stream",
     "text": [
      "[ 6.66851205  6.3723413 ]\n"
     ]
    }
   ],
   "source": [
    "print ( rn[mask] )"
   ]
  },
  {
   "cell_type": "markdown",
   "metadata": {},
   "source": [
    "### Multidimensional Arrays:"
   ]
  },
  {
   "cell_type": "markdown",
   "metadata": {},
   "source": [
    "Arrays and indexing:\n",
    "\n",
    "The indexing is simpler for arrays than for lists:"
   ]
  },
  {
   "cell_type": "code",
   "execution_count": 123,
   "metadata": {},
   "outputs": [
    {
     "name": "stdout",
     "output_type": "stream",
     "text": [
      "[1, 2, 3, 4, 5, 6]\n",
      "6\n"
     ]
    }
   ],
   "source": [
    "print ( lst )\n",
    "print ( lst[-1] )"
   ]
  },
  {
   "cell_type": "code",
   "execution_count": 124,
   "metadata": {},
   "outputs": [
    {
     "name": "stdout",
     "output_type": "stream",
     "text": [
      "<class 'list'>\n",
      "[[1, 2, 3], [4, 5, 6]]\n",
      "<class 'numpy.ndarray'>\n",
      "[[1 2 3]\n",
      " [4 5 6]]\n"
     ]
    }
   ],
   "source": [
    "lst2 = [[1,2,3],[4,5,6]]\n",
    "print ( type(lst2) )\n",
    "print ( lst2 )\n",
    "\n",
    "ar1 = np.arange(1,7).reshape(2,3)\n",
    "print ( type(ar1) )\n",
    "print ( ar1 )"
   ]
  },
  {
   "cell_type": "code",
   "execution_count": 127,
   "metadata": {},
   "outputs": [
    {
     "name": "stdout",
     "output_type": "stream",
     "text": [
      "[1, 2, 3] 2\n",
      "\n"
     ]
    }
   ],
   "source": [
    "print ( lst2[0], lst2[0][1] )\n",
    "print ()\n",
    "# print ( lst2[0,1] )"
   ]
  },
  {
   "cell_type": "markdown",
   "metadata": {},
   "source": [
    "Note: The last print statement gives an error:\n",
    "\n",
    "    TypeError: list indices must be integers or slices, not tuple\n"
   ]
  },
  {
   "cell_type": "code",
   "execution_count": 128,
   "metadata": {},
   "outputs": [
    {
     "name": "stdout",
     "output_type": "stream",
     "text": [
      "[1 2 3] 2 2\n"
     ]
    }
   ],
   "source": [
    "print ( ar1[0], ar1[0][1], ar1[0,1] )"
   ]
  },
  {
   "cell_type": "code",
   "execution_count": 129,
   "metadata": {},
   "outputs": [
    {
     "name": "stdout",
     "output_type": "stream",
     "text": [
      "[[1 2 3]\n",
      " [4 5 6]]\n",
      "3\n",
      "[3 6]\n",
      "[4 5 6]\n"
     ]
    }
   ],
   "source": [
    "print ( ar1 )\n",
    "\n",
    "print ( ar1[0,2] )\n",
    "print ( ar1[:,2] )\n",
    "print ( ar1[1,:] )"
   ]
  },
  {
   "cell_type": "markdown",
   "metadata": {},
   "source": [
    "### Properties:"
   ]
  },
  {
   "cell_type": "markdown",
   "metadata": {},
   "source": [
    "Use ar1. [Tab] to get a list of properties:"
   ]
  },
  {
   "cell_type": "code",
   "execution_count": 130,
   "metadata": {},
   "outputs": [
    {
     "name": "stdout",
     "output_type": "stream",
     "text": [
      "(2, 3)\n",
      "[[1 2 3]\n",
      " [4 5 6]]\n"
     ]
    },
    {
     "data": {
      "text/plain": [
       "array([[ 1,  3,  6],\n",
       "       [ 4,  9, 15]], dtype=int32)"
      ]
     },
     "execution_count": 130,
     "metadata": {},
     "output_type": "execute_result"
    }
   ],
   "source": [
    "print ( ar1.shape )\n",
    "print ( ar1 )\n",
    "ar1.cumsum(axis=1)   # i.e. sum along the rows "
   ]
  },
  {
   "cell_type": "code",
   "execution_count": 131,
   "metadata": {},
   "outputs": [
    {
     "name": "stdout",
     "output_type": "stream",
     "text": [
      "(2, 3)\n",
      "[[1 2 3]\n",
      " [5 7 9]]\n"
     ]
    }
   ],
   "source": [
    "cs = ar1.cumsum(axis=0)   # i.e. sum along the columns\n",
    "print ( cs.shape )\n",
    "print ( cs )"
   ]
  },
  {
   "cell_type": "markdown",
   "metadata": {},
   "source": [
    "Compare this with ar1.sum():"
   ]
  },
  {
   "cell_type": "code",
   "execution_count": 132,
   "metadata": {},
   "outputs": [
    {
     "name": "stdout",
     "output_type": "stream",
     "text": [
      "21 ()\n",
      "[ 6 15] (2,)\n",
      "[5 7 9] (3,)\n"
     ]
    }
   ],
   "source": [
    "s = ar1.sum()\n",
    "sr = ar1.sum(axis=1)  # sum along the rows, columns are used up, lose 1 dimension\n",
    "sc = ar1.sum(axis=0)\n",
    "print ( s, s.shape )\n",
    "print ( sr, sr.shape )\n",
    "print ( sc, sc.shape )"
   ]
  },
  {
   "cell_type": "markdown",
   "metadata": {},
   "source": [
    "### Note: There is no distinction between row and column vectors."
   ]
  },
  {
   "cell_type": "markdown",
   "metadata": {},
   "source": [
    "Broadcasting:\n",
    "\n",
    "Essentially the system restructures arrays, using the following rules, so that their shapes match before carrying out an operation:\n",
    "\n",
    "   1. If the two arrays differ in their number of dimensions, the shape of the array with fewer dimensions is padded with ones on its leading (left) side.\n",
    "\n",
    "   2. If the shape of the two arrays does not match in any dimension, the array with shape equal to 1 in that dimension is stretched to match the other shape.\n",
    "\n",
    "   3. If in any dimension the sizes disagree and neither is equal to 1, an error is raised.\n",
    "   \n",
    "Using one of JVs examples:"
   ]
  },
  {
   "cell_type": "raw",
   "metadata": {},
   "source": [
    "...when we do\n",
    "\n",
    "np.arange(3) + 5\n",
    "\n",
    "The scalar 5 is\n",
    "\n",
    "    first 'promoted' to a 1-dimensional array of length 1    [rule 1, shape is now [1,]]\n",
    "    then, this array is 'stretched' to length 3 to match the first array. [rule 2, shape is now [1,3]]\n",
    "\n",
    "After these two operations are complete, the addition can proceed as now both operands are one-dimensional arrays of length 3.\n",
    "[Note: no new arrays were created!]"
   ]
  },
  {
   "cell_type": "code",
   "execution_count": 133,
   "metadata": {},
   "outputs": [
    {
     "data": {
      "text/plain": [
       "array([5, 6, 7])"
      ]
     },
     "execution_count": 133,
     "metadata": {},
     "output_type": "execute_result"
    }
   ],
   "source": [
    "np.arange(3) + 5"
   ]
  },
  {
   "cell_type": "markdown",
   "metadata": {},
   "source": [
    "'Reshaping' via the 'newaxis' keyword:"
   ]
  },
  {
   "cell_type": "markdown",
   "metadata": {},
   "source": [
    "b = arange(1,3)\n",
    "print ( b                  # equivalent to a row vector\n",
    "print ( b.shape\n",
    "print ( b[newaxis, :]      # change to a column vector\n",
    "print ( b.shape"
   ]
  },
  {
   "cell_type": "markdown",
   "metadata": {},
   "source": [
    "JV then points out that numpy as well as scipy has many functions which work on entire arrays. For example, in scipy.special there are many functions:"
   ]
  },
  {
   "cell_type": "code",
   "execution_count": 134,
   "metadata": {},
   "outputs": [],
   "source": [
    "import scipy.special as spec"
   ]
  },
  {
   "cell_type": "code",
   "execution_count": 135,
   "metadata": {},
   "outputs": [
    {
     "data": {
      "text/plain": [
       "<module 'scipy.special' from '/home/rj/anaconda3/lib/python3.5/site-packages/scipy/special/__init__.py'>"
      ]
     },
     "execution_count": 135,
     "metadata": {},
     "output_type": "execute_result"
    }
   ],
   "source": [
    "spec"
   ]
  },
  {
   "cell_type": "markdown",
   "metadata": {},
   "source": [
    "### Reading and Writing Arrrays to Disk:"
   ]
  },
  {
   "cell_type": "markdown",
   "metadata": {},
   "source": [
    "First save as text:"
   ]
  },
  {
   "cell_type": "code",
   "execution_count": 136,
   "metadata": {},
   "outputs": [],
   "source": [
    "rr2 = np.random.normal(2,1,20).reshape(4,5)"
   ]
  },
  {
   "cell_type": "code",
   "execution_count": 137,
   "metadata": {},
   "outputs": [
    {
     "name": "stdout",
     "output_type": "stream",
     "text": [
      "[[ 3.46242023  4.522795    3.88737247  3.96223055  0.71714256]\n",
      " [ 1.79809992  2.81777501  1.32191131  3.25210612  2.98258098]\n",
      " [ 2.10896466  1.77780227  1.57603001  1.51063275  1.54759785]\n",
      " [ 2.35747571  1.87080618  3.18928942  1.80092484  2.47303118]]\n",
      "rr2data  rr2dataasbin.npy\n"
     ]
    }
   ],
   "source": [
    "print ( rr2 )\n",
    "np.savetxt(\"rr2data\", rr2, fmt='%.3f')\n",
    "!ls r*"
   ]
  },
  {
   "cell_type": "code",
   "execution_count": 138,
   "metadata": {},
   "outputs": [
    {
     "name": "stdout",
     "output_type": "stream",
     "text": [
      "[[ 3.462  4.523  3.887  3.962  0.717]\n",
      " [ 1.798  2.818  1.322  3.252  2.983]\n",
      " [ 2.109  1.778  1.576  1.511  1.548]\n",
      " [ 2.357  1.871  3.189  1.801  2.473]]\n",
      "any differences? True\n"
     ]
    }
   ],
   "source": [
    "rr2b = np.loadtxt(\"rr2data\")\n",
    "print ( rr2b )                # there will be obvious differences from rr2\n",
    "print ( \"any differences?\", np.any(rr2 - rr2b) )"
   ]
  },
  {
   "cell_type": "code",
   "execution_count": 139,
   "metadata": {},
   "outputs": [
    {
     "name": "stdout",
     "output_type": "stream",
     "text": [
      "[[ 3.46242023  4.522795    3.88737247  3.96223055  0.71714256]\n",
      " [ 1.79809992  2.81777501  1.32191131  3.25210612  2.98258098]\n",
      " [ 2.10896466  1.77780227  1.57603001  1.51063275  1.54759785]\n",
      " [ 2.35747571  1.87080618  3.18928942  1.80092484  2.47303118]]\n",
      "any differences? False\n"
     ]
    }
   ],
   "source": [
    "print ( rr2 ) \n",
    "np.save(\"rr2dataasbin.npy\", rr2)\n",
    "rr2c = np.load(\"rr2dataasbin.npy\")\n",
    "print ( \"any differences?\", np.any(rr2 - rr2c) )"
   ]
  },
  {
   "cell_type": "markdown",
   "metadata": {},
   "source": [
    "Note: With the binary save the data was preserved."
   ]
  },
  {
   "cell_type": "markdown",
   "metadata": {},
   "source": [
    "## Exercises: Trapezoidal Integration"
   ]
  },
  {
   "cell_type": "markdown",
   "metadata": {},
   "source": [
    "Part 1: Write a function trapz(x, y), that applies the trapezoid formula to pre-computed values, where x and y are 1-d arrays. (Use numpy operations, not loops!)"
   ]
  },
  {
   "cell_type": "code",
   "execution_count": 140,
   "metadata": {},
   "outputs": [
    {
     "name": "stdout",
     "output_type": "stream",
     "text": [
      "# -*- coding: utf-8 -*-\r\n",
      "\"\"\"\r\n",
      "Created on Tue Dec 24 22:38:22 2013\r\n",
      "\r\n",
      "@author: rj\r\n",
      "\"\"\"\r\n",
      "\r\n",
      "import numpy as np\r\n",
      "\r\n",
      "# Create a function which will take precalculated xs and\r\n",
      "# ys and apply the trapezoidal rule to them.\r\n",
      "\r\n",
      "def trapz(x,y):\r\n",
      "    # calc the x(i)-x(i-1)\r\n",
      "    xdif = x[1:] - x[:-1]\r\n",
      "    # print \"xdif = \", xdif\r\n",
      "    # # calc the y(i)+y(i-1)\r\n",
      "    ysum = y[1:] + y[:-1]\r\n",
      "    # print \"ysum = \", ysum\r\n",
      "    xyprod = xdif*ysum\r\n",
      "    # print \"xyprod = \", xyprod\r\n",
      "    # return the result of the trapezoidal rule\r\n",
      "    return xyprod.sum()/2.\r\n",
      "\r\n",
      "if __name__ == \"__main__\":\r\n",
      "    \r\n",
      "    # create x range (a,b), number of steps(n)\r\n",
      "    a = 0.\r\n",
      "    b = 5.\r\n",
      "    n = 50\r\n",
      "    xs = np.linspace(a,b,n)\r\n",
      "    # print \"xs = \",xs\r\n",
      "\r\n",
      "    # create the y values for a given function: y = 2x\r\n",
      "    ys = lambda k: 2*k\r\n",
      "    ys = ys(xs)\r\n",
      "    # print \"ys = \",ys\r\n",
      "    \r\n",
      "    TR = trapz(xs,ys)\r\n",
      "    print \"TR = \", TR\r\n",
      "    \r\n",
      "    \r\n",
      "    \r\n",
      "    \r\n",
      "\r\n"
     ]
    }
   ],
   "source": [
    "!cat trapz.py"
   ]
  },
  {
   "cell_type": "code",
   "execution_count": 141,
   "metadata": {},
   "outputs": [
    {
     "ename": "SyntaxError",
     "evalue": "Missing parentheses in call to 'print' (trapz.py, line 40)",
     "output_type": "error",
     "traceback": [
      "\u001b[0;36m  File \u001b[0;32m\"/home/rj/Notebooks/trapz.py\"\u001b[0;36m, line \u001b[0;32m40\u001b[0m\n\u001b[0;31m    print \"TR = \", TR\u001b[0m\n\u001b[0m                ^\u001b[0m\n\u001b[0;31mSyntaxError\u001b[0m\u001b[0;31m:\u001b[0m Missing parentheses in call to 'print'\n"
     ]
    }
   ],
   "source": [
    "run trapz"
   ]
  },
  {
   "cell_type": "markdown",
   "metadata": {},
   "source": [
    "The function trapz(x,y) has correctly calculated the area under the line y = 2x on the interval (0,5)."
   ]
  },
  {
   "cell_type": "markdown",
   "metadata": {},
   "source": [
    "Part 2: Write a function trapzf(f, a, b, npts=100) that accepts a function f, the endpoints a and b and the number of samples to take npts. Sample the function uniformly at these points and return the value of the integral."
   ]
  },
  {
   "cell_type": "code",
   "execution_count": 142,
   "metadata": {},
   "outputs": [
    {
     "name": "stdout",
     "output_type": "stream",
     "text": [
      "# -*- coding: utf-8 -*-\r\n",
      "\"\"\"\r\n",
      "Created on Wed Dec 25 11:29:14 2013\r\n",
      "\r\n",
      "@author: rj\r\n",
      "\r\n",
      "trapzf(f, a, b, npts=100) is a function that accepts\r\n",
      "a function f, the endpoints a and b and\r\n",
      "the number of samples to take npts.\r\n",
      "\r\n",
      "\"\"\"\r\n",
      "\r\n",
      "import numpy as np\r\n",
      "\r\n",
      "\r\n",
      "def trapzf(f,a,b,npts=100):\r\n",
      "    # create the x values based on the npts    \r\n",
      "    xs = np.linspace(a,b,npts)\r\n",
      "    # print \"xs = \",xs\r\n",
      "    # create the y values for the given funnction f\r\n",
      "    ys = eval(f)\r\n",
      "    # print \"ys = \",ys    \r\n",
      "    # calc the x(i)-x(i-1)\r\n",
      "    xdif = xs[1:] - xs[:-1]\r\n",
      "    # print \"xdif = \", xdif\r\n",
      "    # # calc the y(i)+y(i-1)\r\n",
      "    ysum = ys[1:] + ys[:-1]\r\n",
      "    # print \"ysum = \", ysum\r\n",
      "    xyprod = xdif*ysum\r\n",
      "    # print \"xyprod = \", xyprod\r\n",
      "    # return the result of the trapezoidal rule\r\n",
      "    return xyprod.sum()/2.\r\n",
      "\r\n",
      "if __name__ == \"__main__\":\r\n",
      "    \r\n",
      "    # create x range (a,b), number of steps(n)\r\n",
      "    a = 0.\r\n",
      "    b = 5.\r\n",
      "    npts = 5\r\n",
      "    \r\n",
      "    # 'f' is the function to be integrated\r\n",
      "    f = 'xs**2'\r\n",
      "\r\n",
      "    # test trapzf for npts = 5\r\n",
      "    TR = trapzf(f,a,b,npts)\r\n",
      "    print \"TR = \", TR\r\n",
      "    \r\n",
      "    # test trapzf for the default npts = 100\r\n",
      "    TR = trapzf(f,a,b)\r\n",
      "    print \"TR = \", TR\r\n",
      "    "
     ]
    }
   ],
   "source": [
    "!cat trapzf.py"
   ]
  },
  {
   "cell_type": "code",
   "execution_count": 151,
   "metadata": {},
   "outputs": [
    {
     "name": "stdout",
     "output_type": "stream",
     "text": [
      "TR =  42.96875\n",
      "TR =  41.6687923001\n"
     ]
    }
   ],
   "source": [
    "run trapzf"
   ]
  },
  {
   "cell_type": "markdown",
   "metadata": {},
   "source": [
    "Note the use of the eval() function to enable simple passage of the function to be evaluated to the defined function. \n",
    "\n",
    "For example, the result is correct for this integral as shown below:"
   ]
  },
  {
   "cell_type": "code",
   "execution_count": 152,
   "metadata": {},
   "outputs": [
    {
     "data": {
      "text/latex": [
       "$$\\int^5_0 x^2 = \\frac{x^3}{3} {\\Big]^5_0} = 41.\\dot{6}$$"
      ],
      "text/plain": [
       "<IPython.core.display.Math object>"
      ]
     },
     "execution_count": 152,
     "metadata": {},
     "output_type": "execute_result"
    }
   ],
   "source": [
    "from IPython.display import Math\n",
    "Math(r'\\int^5_0 x^2 = \\frac{x^3}{3} {\\Big]^5_0} = 41.\\dot{6}')"
   ]
  },
  {
   "cell_type": "markdown",
   "metadata": {},
   "source": [
    "Part 4: Investigate scipy.integrate and find a function to do this integration. This module contains a few functions which use the trapezoidal rule such as trapz()"
   ]
  },
  {
   "cell_type": "code",
   "execution_count": 153,
   "metadata": {},
   "outputs": [
    {
     "data": {
      "text/plain": [
       "41.675343606830488"
      ]
     },
     "execution_count": 153,
     "metadata": {},
     "output_type": "execute_result"
    }
   ],
   "source": [
    "import scipy.integrate as Int\n",
    "x = np.linspace(0,5,50)\n",
    "ys = lambda x: x**2\n",
    "y = ys(x)\n",
    "\n",
    "Int.trapz(y,x)"
   ]
  },
  {
   "cell_type": "markdown",
   "metadata": {},
   "source": [
    "As well as others such as quad() which accomplish the same thing:"
   ]
  },
  {
   "cell_type": "code",
   "execution_count": 154,
   "metadata": {},
   "outputs": [
    {
     "data": {
      "text/plain": [
       "(41.666666666666664, 4.625929269271485e-13)"
      ]
     },
     "execution_count": 154,
     "metadata": {},
     "output_type": "execute_result"
    }
   ],
   "source": [
    "y = lambda x:x**2\n",
    "Int.quad(y,0,5)"
   ]
  },
  {
   "cell_type": "markdown",
   "metadata": {},
   "source": [
    "In his answers he uses slicing which has some interesting properties:"
   ]
  },
  {
   "cell_type": "code",
   "execution_count": 155,
   "metadata": {},
   "outputs": [
    {
     "name": "stdout",
     "output_type": "stream",
     "text": [
      "[  0.           0.71428571   1.42857143   2.14285714   2.85714286\n",
      "   3.57142857   4.28571429   5.           5.71428571   6.42857143\n",
      "   7.14285714   7.85714286   8.57142857   9.28571429  10.        ]\n",
      "xs shape =  (15,)\n",
      "the fifth element =  3.57142857143\n",
      "the first 5 elements =  [ 0.          0.71428571  1.42857143  2.14285714  2.85714286]\n",
      "every 5th element =  [ 0.          3.57142857  7.14285714]\n"
     ]
    }
   ],
   "source": [
    "x = np.linspace(0,10,15)\n",
    "print ( x )\n",
    "print ( 'xs shape = ', x.shape )\n",
    "print ( 'the fifth element = ', x[5] ) # numbering starts at 0\n",
    "print ( \"the first 5 elements = \",x[:5] )\n",
    "print ( \"every 5th element = \",x[::5] )\n"
   ]
  },
  {
   "cell_type": "code",
   "execution_count": 156,
   "metadata": {},
   "outputs": [],
   "source": [
    "from IPython.display import FileLink, FileLinks"
   ]
  },
  {
   "cell_type": "code",
   "execution_count": 157,
   "metadata": {},
   "outputs": [
    {
     "data": {
      "text/html": [
       "<a href='Astr599 - 2.ipynb' target='_blank'>Astr599 - 2.ipynb</a><br>"
      ],
      "text/plain": [
       "/home/rj/Notebooks/Astr599 - 2.ipynb"
      ]
     },
     "execution_count": 157,
     "metadata": {},
     "output_type": "execute_result"
    }
   ],
   "source": [
    "FileLink('Astr599 - 2.ipynb')"
   ]
  },
  {
   "cell_type": "code",
   "execution_count": null,
   "metadata": {},
   "outputs": [],
   "source": []
  }
 ],
 "metadata": {
  "anaconda-cloud": {},
  "kernelspec": {
   "display_name": "Python 3 (ipykernel)",
   "language": "python",
   "name": "python3"
  },
  "language_info": {
   "codemirror_mode": {
    "name": "ipython",
    "version": 3
   },
   "file_extension": ".py",
   "mimetype": "text/x-python",
   "name": "python",
   "nbconvert_exporter": "python",
   "pygments_lexer": "ipython3",
   "version": "3.12.3"
  }
 },
 "nbformat": 4,
 "nbformat_minor": 4
}
